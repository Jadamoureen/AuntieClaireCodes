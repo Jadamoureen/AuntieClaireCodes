{
 "cells": [
  {
   "cell_type": "code",
   "execution_count": 2,
   "metadata": {},
   "outputs": [
    {
     "name": "stdout",
     "output_type": "stream",
     "text": [
      "5\n"
     ]
    }
   ],
   "source": [
    "# len function \n",
    "\n",
    "gift_list = [\"watch\", \"chocolate\", \"wine\", \"shoes\", \"bag\"]\n",
    "\n",
    "print(len(gift_list))"
   ]
  },
  {
   "cell_type": "code",
   "execution_count": 6,
   "metadata": {},
   "outputs": [
    {
     "name": "stdout",
     "output_type": "stream",
     "text": [
      "False\n"
     ]
    }
   ],
   "source": [
    "# any function \n",
    "\n",
    "#False, True - boolean data types\n",
    "\n",
    "print(any([False, False, False]))"
   ]
  },
  {
   "cell_type": "code",
   "execution_count": 7,
   "metadata": {},
   "outputs": [
    {
     "name": "stdout",
     "output_type": "stream",
     "text": [
      "True\n"
     ]
    }
   ],
   "source": [
    "print(any([True, False, True ]))"
   ]
  },
  {
   "cell_type": "code",
   "execution_count": 9,
   "metadata": {},
   "outputs": [
    {
     "name": "stdout",
     "output_type": "stream",
     "text": [
      "False\n"
     ]
    }
   ],
   "source": [
    "print(len('foo') == 4)"
   ]
  },
  {
   "cell_type": "code",
   "execution_count": 11,
   "metadata": {},
   "outputs": [
    {
     "name": "stdout",
     "output_type": "stream",
     "text": [
      "3\n"
     ]
    }
   ],
   "source": [
    "print(len('foo'))"
   ]
  },
  {
   "cell_type": "code",
   "execution_count": 10,
   "metadata": {},
   "outputs": [
    {
     "name": "stdout",
     "output_type": "stream",
     "text": [
      "False\n"
     ]
    }
   ],
   "source": [
    "print('bar' == 'baz')"
   ]
  },
  {
   "cell_type": "code",
   "execution_count": 8,
   "metadata": {},
   "outputs": [
    {
     "name": "stdout",
     "output_type": "stream",
     "text": [
      "False\n"
     ]
    }
   ],
   "source": [
    "\n",
    "\n",
    "print(any(['bar' == 'baz', len('foo')== 4, 'qux' in {'foo','bar','baz'}]))"
   ]
  },
  {
   "cell_type": "code",
   "execution_count": 12,
   "metadata": {},
   "outputs": [
    {
     "name": "stdout",
     "output_type": "stream",
     "text": [
      "True\n"
     ]
    }
   ],
   "source": [
    "print(any(['bar' == 'baz', len('foo') == 3, 'qux' in {'foo','bar','baz'}]))"
   ]
  },
  {
   "cell_type": "code",
   "execution_count": 13,
   "metadata": {},
   "outputs": [
    {
     "name": "stdout",
     "output_type": "stream",
     "text": [
      "True\n"
     ]
    }
   ],
   "source": [
    "print(any([False,True,False]))"
   ]
  },
  {
   "cell_type": "code",
   "execution_count": 14,
   "metadata": {},
   "outputs": [
    {
     "name": "stdout",
     "output_type": "stream",
     "text": [
      "True\n"
     ]
    }
   ],
   "source": [
    "print(any(['bar' == 'baz', len('foo') == 3, 'qux' in {'foo','bar','baz','qux'}]))"
   ]
  },
  {
   "cell_type": "code",
   "execution_count": 15,
   "metadata": {},
   "outputs": [
    {
     "name": "stdout",
     "output_type": "stream",
     "text": [
      "True\n"
     ]
    }
   ],
   "source": [
    "print(any([False,True,True]))"
   ]
  },
  {
   "cell_type": "code",
   "execution_count": 19,
   "metadata": {},
   "outputs": [],
   "source": [
    "#user-defined function\n",
    "\n",
    "def say_hello():\n",
    "    \n",
    "    print(\"Hello Moureen!\")"
   ]
  },
  {
   "cell_type": "code",
   "execution_count": 20,
   "metadata": {},
   "outputs": [
    {
     "name": "stdout",
     "output_type": "stream",
     "text": [
      "Hello Moureen!\n"
     ]
    }
   ],
   "source": [
    "say_hello()"
   ]
  },
  {
   "cell_type": "code",
   "execution_count": 18,
   "metadata": {},
   "outputs": [
    {
     "name": "stdout",
     "output_type": "stream",
     "text": [
      "Hello World!\n"
     ]
    }
   ],
   "source": [
    "say_hello()"
   ]
  },
  {
   "cell_type": "code",
   "execution_count": 21,
   "metadata": {},
   "outputs": [
    {
     "name": "stdout",
     "output_type": "stream",
     "text": [
      "Hello Moureen!\n"
     ]
    }
   ],
   "source": [
    "print(\"Hello Moureen!\")"
   ]
  },
  {
   "cell_type": "code",
   "execution_count": 22,
   "metadata": {},
   "outputs": [
    {
     "name": "stdout",
     "output_type": "stream",
     "text": [
      "Hello World!\n"
     ]
    }
   ],
   "source": [
    "print(\"Hello World!\")"
   ]
  },
  {
   "cell_type": "code",
   "execution_count": 25,
   "metadata": {},
   "outputs": [],
   "source": [
    "#User-defined function with arguments and return values\n",
    "\n",
    "def add_num(num1,num2):\n",
    "    return num1 + num2\n"
   ]
  },
  {
   "cell_type": "code",
   "execution_count": 28,
   "metadata": {},
   "outputs": [
    {
     "data": {
      "text/plain": [
       "12"
      ]
     },
     "execution_count": 28,
     "metadata": {},
     "output_type": "execute_result"
    }
   ],
   "source": [
    "add_num(5,7)"
   ]
  },
  {
   "cell_type": "code",
   "execution_count": 29,
   "metadata": {},
   "outputs": [
    {
     "data": {
      "text/plain": [
       "179"
      ]
     },
     "execution_count": 29,
     "metadata": {},
     "output_type": "execute_result"
    }
   ],
   "source": [
    "add_num(89,90)"
   ]
  },
  {
   "cell_type": "code",
   "execution_count": 30,
   "metadata": {},
   "outputs": [
    {
     "name": "stdout",
     "output_type": "stream",
     "text": [
      "102\n"
     ]
    }
   ],
   "source": [
    "result = add_num(35,67)\n",
    "\n",
    "print(result)"
   ]
  },
  {
   "cell_type": "code",
   "execution_count": 3,
   "metadata": {},
   "outputs": [
    {
     "name": "stdout",
     "output_type": "stream",
     "text": [
      "Hello World!\n"
     ]
    }
   ],
   "source": [
    "# functions def \n",
    "\n",
    "\n",
    "\n",
    "def my_function():\n",
    "    print(\"Hello World!\")\n",
    "my_function()"
   ]
  },
  {
   "cell_type": "code",
   "execution_count": null,
   "metadata": {},
   "outputs": [],
   "source": []
  },
  {
   "cell_type": "code",
   "execution_count": 6,
   "metadata": {},
   "outputs": [
    {
     "name": "stdout",
     "output_type": "stream",
     "text": [
      "Sandrah Basiima\n"
     ]
    }
   ],
   "source": [
    "def my_function(firstname):\n",
    "    print(firstname + \"Basiima\")\n",
    "my_function(\"Sandrah \")"
   ]
  },
  {
   "cell_type": "code",
   "execution_count": 8,
   "metadata": {},
   "outputs": [
    {
     "name": "stdout",
     "output_type": "stream",
     "text": [
      "Sandrah Basiima\n"
     ]
    }
   ],
   "source": [
    "def my_function(firstname):\n",
    "    print(firstname +\" \" +\"Basiima\")\n",
    "my_function(\"Sandrah\")"
   ]
  },
  {
   "cell_type": "code",
   "execution_count": 9,
   "metadata": {},
   "outputs": [
    {
     "name": "stdout",
     "output_type": "stream",
     "text": [
      "Judith Basiima\n",
      "Priscilla Basiima\n",
      "Sanon Basiima\n",
      "Patrick Basiima\n"
     ]
    }
   ],
   "source": [
    "def my_function(firstname):\n",
    "    print(firstname + \" \"+\"Basiima\")\n",
    "my_function(\"Judith\")\n",
    "my_function(\"Priscilla\")\n",
    "my_function(\"Sanon\")\n",
    "my_function(\"Patrick\")"
   ]
  },
  {
   "cell_type": "code",
   "execution_count": 10,
   "metadata": {},
   "outputs": [
    {
     "name": "stdout",
     "output_type": "stream",
     "text": [
      "Sandra Basiima\n"
     ]
    }
   ],
   "source": [
    "def my_function(firstname, lastname):\n",
    "    print(firstname + \" \"+ lastname)\n",
    "my_function(\"Sandra\", \"Basiima\")"
   ]
  },
  {
   "cell_type": "code",
   "execution_count": 16,
   "metadata": {},
   "outputs": [
    {
     "name": "stdout",
     "output_type": "stream",
     "text": [
      "Who is the youngest?Sanon\n"
     ]
    }
   ],
   "source": [
    "def my_function(child1, child2, child3):\n",
    "    print(\"Who is the youngest?\" + child3)\n",
    "my_function(child1 = \"Judith\", child2 = \"Priscilla\", child3 =\"Sanon\")"
   ]
  },
  {
   "cell_type": "code",
   "execution_count": 13,
   "metadata": {},
   "outputs": [
    {
     "name": "stdout",
     "output_type": "stream",
     "text": [
      "Sandra Patience Basiima \n"
     ]
    }
   ],
   "source": [
    "def my_function(firstname, middlename, lastname):\n",
    "    print(firstname + middlename + lastname)\n",
    "my_function(\"Sandra \", \"Patience \", \"Basiima \")"
   ]
  },
  {
   "cell_type": "code",
   "execution_count": 15,
   "metadata": {},
   "outputs": [
    {
     "name": "stdout",
     "output_type": "stream",
     "text": [
      "Douglas Mukiisa Perry \n"
     ]
    }
   ],
   "source": [
    "def my_names(firstname, middlename, lastname):\n",
    "    print(firstname + middlename + lastname)\n",
    "my_names(\"Douglas \", \"Mukiisa \", \"Perry \")"
   ]
  },
  {
   "cell_type": "code",
   "execution_count": 17,
   "metadata": {},
   "outputs": [
    {
     "name": "stdout",
     "output_type": "stream",
     "text": [
      "I am from Sweden\n",
      "I am from Norway\n",
      "I am from Great Britain\n",
      "I am from Uganda\n"
     ]
    }
   ],
   "source": [
    "def my_countries(country = \"Great Britain\"):\n",
    "    print(\"I am from \"+ country)\n",
    "my_countries(\"Sweden\")\n",
    "my_countries(\"Norway\")\n",
    "my_countries()\n",
    "my_countries(\"Uganda\")"
   ]
  },
  {
   "cell_type": "code",
   "execution_count": 18,
   "metadata": {},
   "outputs": [
    {
     "name": "stdout",
     "output_type": "stream",
     "text": [
      "I love Mango\n",
      "I love Sugarcane\n",
      "I love Pineapple\n"
     ]
    }
   ],
   "source": [
    "def my_fruits(fruit = \"Pineapple\"):\n",
    "    print(\"I love \" + fruit)\n",
    "my_fruits(\"Mango\")\n",
    "my_fruits(\"Sugarcane\")\n",
    "my_fruits()"
   ]
  },
  {
   "cell_type": "code",
   "execution_count": 21,
   "metadata": {},
   "outputs": [
    {
     "name": "stdout",
     "output_type": "stream",
     "text": [
      "P\n",
      "i\n",
      "n\n",
      "e\n",
      "a\n",
      "p\n",
      "p\n",
      "l\n",
      "e\n"
     ]
    }
   ],
   "source": [
    "def my_fruits(fruit):\n",
    "    for i in fruit:\n",
    "        print(i)\n",
    "fruitz =[\"Pineapple\", \"Mango\", \"Sugarcane\"]\n",
    "\n",
    "my_fruits(\"Pineapple\")"
   ]
  },
  {
   "cell_type": "code",
   "execution_count": 22,
   "metadata": {},
   "outputs": [
    {
     "name": "stdout",
     "output_type": "stream",
     "text": [
      "S\n",
      "u\n",
      "g\n",
      "a\n",
      "r\n",
      "c\n",
      "a\n",
      "n\n",
      "e\n"
     ]
    }
   ],
   "source": [
    "def my_fruits(fruit):\n",
    "    for i in fruit:\n",
    "        print(i)\n",
    "fruitz =[\"Pineapple\", \"Mango\", \"Sugarcane\"]\n",
    "\n",
    "my_fruits(\"Sugarcane\")"
   ]
  },
  {
   "cell_type": "code",
   "execution_count": 23,
   "metadata": {},
   "outputs": [
    {
     "name": "stdout",
     "output_type": "stream",
     "text": [
      "Pineapple\n",
      "Mango\n",
      "Sugarcane\n"
     ]
    }
   ],
   "source": [
    "def my_fruits(fruit):\n",
    "    for i in fruit:\n",
    "        print(i)\n",
    "fruitz =[\"Pineapple\", \"Mango\", \"Sugarcane\"]\n",
    "\n",
    "my_fruits(fruitz)"
   ]
  },
  {
   "cell_type": "markdown",
   "metadata": {},
   "source": [
    "# Exercise "
   ]
  },
  {
   "cell_type": "markdown",
   "metadata": {},
   "source": [
    "1. Write a function takes a two-words and returns True if both words begin with same letter\n",
    "\n",
    "2. Write a function that takes in a word and returns the word with a # prefix \n",
    "\n",
    "3. Write a function that takes in a firstname and lastname and returns the fullname separated by a space.\n",
    "\n",
    "4. Write a function that takes in a sentence and returns it with words reversed\n"
   ]
  },
  {
   "cell_type": "code",
   "execution_count": null,
   "metadata": {},
   "outputs": [],
   "source": []
  }
 ],
 "metadata": {
  "kernelspec": {
   "display_name": "Python 3",
   "language": "python",
   "name": "python3"
  },
  "language_info": {
   "codemirror_mode": {
    "name": "ipython",
    "version": 3
   },
   "file_extension": ".py",
   "mimetype": "text/x-python",
   "name": "python",
   "nbconvert_exporter": "python",
   "pygments_lexer": "ipython3",
   "version": "3.8.5"
  }
 },
 "nbformat": 4,
 "nbformat_minor": 4
}
