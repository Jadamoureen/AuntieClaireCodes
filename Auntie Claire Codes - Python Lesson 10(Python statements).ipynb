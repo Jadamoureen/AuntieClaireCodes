{
 "cells": [
  {
   "cell_type": "code",
   "execution_count": 2,
   "metadata": {},
   "outputs": [
    {
     "name": "stdout",
     "output_type": "stream",
     "text": [
      "I am not Hungry\n"
     ]
    }
   ],
   "source": [
    "#Control-flow\n",
    "\n",
    "# if /else\n",
    "\n",
    "Hungry = False\n",
    "\n",
    "if Hungry:\n",
    "    print(\"Feed me!\")\n",
    "else:\n",
    "    print(\"I am not Hungry\")\n",
    "    "
   ]
  },
  {
   "cell_type": "code",
   "execution_count": 3,
   "metadata": {},
   "outputs": [
    {
     "name": "stdout",
     "output_type": "stream",
     "text": [
      "Feed me!\n"
     ]
    }
   ],
   "source": [
    "Hungry = True\n",
    "\n",
    "if Hungry:\n",
    "    print(\"Feed me!\")\n",
    "else:\n",
    "    print(\"I am not Hungry\")"
   ]
  },
  {
   "cell_type": "code",
   "execution_count": 4,
   "metadata": {},
   "outputs": [
    {
     "name": "stdout",
     "output_type": "stream",
     "text": [
      "I don't know much\n"
     ]
    }
   ],
   "source": [
    "loc = \"Game\"\n",
    "\n",
    "if loc == \"Auto shop\":\n",
    "    print(\"cars are cool!\")\n",
    "elif loc == \"Bank\":\n",
    "    print(\"Money is cool!\")\n",
    "elif loc == \"Store\":\n",
    "    print(\"Welcome to the store.\")\n",
    "else:\n",
    "    print(\"I don't know much\")"
   ]
  },
  {
   "cell_type": "code",
   "execution_count": 5,
   "metadata": {},
   "outputs": [
    {
     "name": "stdout",
     "output_type": "stream",
     "text": [
      "Money is cool!\n"
     ]
    }
   ],
   "source": [
    "loc = \"Bank\"\n",
    "\n",
    "if loc == \"Auto shop\":\n",
    "    print(\"cars are cool!\")\n",
    "elif loc == \"Bank\":\n",
    "    print(\"Money is cool!\")\n",
    "elif loc == \"Store\":\n",
    "    print(\"Welcome to the store.\")\n",
    "else:\n",
    "    print(\"I don't know much\")"
   ]
  },
  {
   "cell_type": "code",
   "execution_count": 8,
   "metadata": {},
   "outputs": [
    {
     "name": "stdout",
     "output_type": "stream",
     "text": [
      "I don't know much\n"
     ]
    }
   ],
   "source": [
    "loc = \"Sandra\"\n",
    "\n",
    "if loc == \"Auto shop\":\n",
    "    print(\"cars are cool!\")\n",
    "elif loc == \"Bank\":\n",
    "    print(\"Money is cool!\")\n",
    "elif loc == \"Store\":\n",
    "    print(\"Welcome to the store.\")\n",
    "else:\n",
    "    print(\"I don't know much\")"
   ]
  },
  {
   "cell_type": "code",
   "execution_count": 9,
   "metadata": {},
   "outputs": [],
   "source": [
    "#loop\n",
    "\n",
    "my_list = [1,2,3,4,5,6,7,8,9,10]\n"
   ]
  },
  {
   "cell_type": "code",
   "execution_count": 10,
   "metadata": {},
   "outputs": [
    {
     "name": "stdout",
     "output_type": "stream",
     "text": [
      "1\n",
      "2\n",
      "3\n",
      "4\n",
      "5\n",
      "6\n",
      "7\n",
      "8\n",
      "9\n",
      "10\n"
     ]
    }
   ],
   "source": [
    "for num in my_list:\n",
    "    print(num)"
   ]
  },
  {
   "cell_type": "code",
   "execution_count": 12,
   "metadata": {},
   "outputs": [
    {
     "name": "stdout",
     "output_type": "stream",
     "text": [
      "2\n",
      "4\n",
      "6\n",
      "8\n",
      "10\n"
     ]
    }
   ],
   "source": [
    "for num in my_list:\n",
    "    \n",
    "    #checking for even numbers in our list\n",
    "    if num % 2 == 0:\n",
    "        \n",
    "        print(num)\n",
    "        "
   ]
  },
  {
   "cell_type": "code",
   "execution_count": 11,
   "metadata": {},
   "outputs": [
    {
     "name": "stdout",
     "output_type": "stream",
     "text": [
      "Bash\n",
      "Sandra\n",
      "Yasin\n"
     ]
    }
   ],
   "source": [
    "my_list2 = [\"Bash\",\"Sandra\",\"Yasin\"]\n",
    "\n",
    "for names in my_list2:\n",
    "    print(names)"
   ]
  },
  {
   "cell_type": "code",
   "execution_count": 13,
   "metadata": {},
   "outputs": [
    {
     "name": "stdout",
     "output_type": "stream",
     "text": [
      "0 m\n",
      "1 u\n",
      "2 t\n",
      "3 e\n",
      "4 b\n",
      "5 i\n"
     ]
    }
   ],
   "source": [
    "name = \"mutebi\"\n",
    "\n",
    "for index,value in enumerate(name):\n",
    "    print(index,value)"
   ]
  },
  {
   "cell_type": "code",
   "execution_count": 14,
   "metadata": {},
   "outputs": [
    {
     "name": "stdout",
     "output_type": "stream",
     "text": [
      "0 S\n",
      "1 a\n",
      "2 n\n",
      "3 d\n",
      "4 r\n",
      "5 a\n"
     ]
    }
   ],
   "source": [
    "name = \"Sandra\"\n",
    "\n",
    "for index,value in enumerate(name):\n",
    "    print(index,value)"
   ]
  },
  {
   "cell_type": "code",
   "execution_count": 15,
   "metadata": {},
   "outputs": [
    {
     "name": "stdout",
     "output_type": "stream",
     "text": [
      "0 H\n",
      "1 e\n",
      "2 l\n",
      "3 l\n",
      "4 o\n",
      "5  \n",
      "6 W\n",
      "7 o\n",
      "8 r\n",
      "9 l\n",
      "10 d\n",
      "11 ,\n",
      "12 H\n",
      "13 o\n",
      "14 w\n",
      "15  \n",
      "16 a\n",
      "17 r\n",
      "18 e\n",
      "19  \n",
      "20 y\n",
      "21 o\n",
      "22 u\n",
      "23  \n",
      "24 a\n",
      "25 l\n",
      "26 l\n",
      "27  \n",
      "28 T\n",
      "29 o\n",
      "30 d\n",
      "31 a\n",
      "32 y\n",
      "33 ?\n"
     ]
    }
   ],
   "source": [
    "name = \"Hello World,How are you all Today?\"\n",
    "\n",
    "for index,value in enumerate(name):\n",
    "    print(index,value)"
   ]
  },
  {
   "cell_type": "code",
   "execution_count": 18,
   "metadata": {},
   "outputs": [
    {
     "name": "stdout",
     "output_type": "stream",
     "text": [
      "1 2 3\n",
      "4 5 6\n",
      "7 8 9\n"
     ]
    }
   ],
   "source": [
    "# tuple Unpacking \n",
    "\n",
    "my_tup = [(1,2,3),(4,5,6),(7,8,9)]\n",
    "\n",
    "for a,b,c in my_tup:\n",
    "    print(a,b,c)"
   ]
  },
  {
   "cell_type": "code",
   "execution_count": null,
   "metadata": {},
   "outputs": [],
   "source": [
    "# while loop\n",
    "\n",
    " #infinity looping\n",
    "#x = 2\n",
    "\n",
    "#while x < 9:\n",
    " #   print(x)"
   ]
  },
  {
   "cell_type": "code",
   "execution_count": 1,
   "metadata": {},
   "outputs": [
    {
     "name": "stdout",
     "output_type": "stream",
     "text": [
      "The value of X: 2\n",
      "The value of X: 3\n",
      "The value of X: 4\n",
      "The value of X: 5\n",
      "The value of X: 6\n",
      "The value of X: 7\n",
      "The value of X: 8\n"
     ]
    }
   ],
   "source": [
    "x = 2\n",
    "\n",
    "while x < 9:\n",
    "    \n",
    "    print(f'The value of X: {x}')\n",
    "    \n",
    "    x = x + 1"
   ]
  },
  {
   "cell_type": "code",
   "execution_count": 2,
   "metadata": {},
   "outputs": [
    {
     "name": "stdout",
     "output_type": "stream",
     "text": [
      "The current value of x is 0\n",
      "The current value of x is 1\n",
      "The current value of x is 2\n",
      "The current value of x is 3\n",
      "The current value of x is 4\n",
      "x is not less than 5\n"
     ]
    }
   ],
   "source": [
    "#While loop\n",
    "\n",
    "x =0\n",
    "\n",
    "while x < 5:\n",
    "    print(f'The current value of x is {x}')\n",
    "    \n",
    "    x = x + 1\n",
    "else:\n",
    "    print(\"x is not less than 5\")"
   ]
  },
  {
   "cell_type": "code",
   "execution_count": 3,
   "metadata": {},
   "outputs": [
    {
     "name": "stdout",
     "output_type": "stream",
     "text": [
      "end of the script\n"
     ]
    }
   ],
   "source": [
    "#for loop\n",
    "\n",
    "x = [1,2,3,4,5,6,7,8]\n",
    "\n",
    "for num in x:\n",
    "    \n",
    "    pass\n",
    "\n",
    "print('end of the script')"
   ]
  },
  {
   "cell_type": "code",
   "execution_count": 4,
   "metadata": {},
   "outputs": [
    {
     "name": "stdout",
     "output_type": "stream",
     "text": [
      "S\n",
      "a\n",
      "n\n",
      "d\n",
      "a\n"
     ]
    }
   ],
   "source": [
    "name = 'Sandra'\n",
    "\n",
    "for letter in name:\n",
    "    if letter == 'r':\n",
    "        continue\n",
    "    else:\n",
    "        print(letter)"
   ]
  },
  {
   "cell_type": "code",
   "execution_count": 5,
   "metadata": {},
   "outputs": [
    {
     "name": "stdout",
     "output_type": "stream",
     "text": [
      "S\n",
      "a\n",
      "n\n",
      "d\n",
      "r is found\n",
      "a\n"
     ]
    }
   ],
   "source": [
    "name = 'Sandra'\n",
    "\n",
    "for letter in name:\n",
    "    if letter == 'r':\n",
    "        print(\"r is found\")\n",
    "        continue\n",
    "    else:\n",
    "        print(letter)"
   ]
  },
  {
   "cell_type": "code",
   "execution_count": 6,
   "metadata": {},
   "outputs": [
    {
     "name": "stdout",
     "output_type": "stream",
     "text": [
      "B\n",
      "a\n",
      "s\n",
      "h\n",
      "r\n"
     ]
    }
   ],
   "source": [
    "name = 'Bashir'\n",
    "\n",
    "for letter in name:\n",
    "    if letter == 'i':\n",
    "        continue\n",
    "    else:\n",
    "        print(letter)"
   ]
  },
  {
   "cell_type": "code",
   "execution_count": 7,
   "metadata": {},
   "outputs": [
    {
     "name": "stdout",
     "output_type": "stream",
     "text": [
      "B\n",
      "a\n",
      "s\n",
      "h\n",
      "i is found\n",
      "r\n"
     ]
    }
   ],
   "source": [
    "name = 'Bashir'\n",
    "\n",
    "for letter in name:\n",
    "    if letter == 'i':\n",
    "        print('i is found')\n",
    "        continue\n",
    "    else:\n",
    "        print(letter)"
   ]
  },
  {
   "cell_type": "code",
   "execution_count": 8,
   "metadata": {},
   "outputs": [
    {
     "name": "stdout",
     "output_type": "stream",
     "text": [
      "S\n",
      "a\n",
      "n\n"
     ]
    }
   ],
   "source": [
    "name = 'Sandra'\n",
    "\n",
    "for letter in name:\n",
    "    if letter == 'd':\n",
    "        break\n",
    "    else:\n",
    "        print(letter)"
   ]
  },
  {
   "cell_type": "code",
   "execution_count": 10,
   "metadata": {},
   "outputs": [
    {
     "name": "stdout",
     "output_type": "stream",
     "text": [
      "range(0, 11, 2)\n"
     ]
    }
   ],
   "source": [
    "#operators and methods \n",
    "\n",
    "#range\n",
    "\n",
    "lst=range(0,11,2)\n",
    "print(lst)"
   ]
  },
  {
   "cell_type": "code",
   "execution_count": 14,
   "metadata": {},
   "outputs": [
    {
     "data": {
      "text/plain": [
       "{0, 1, 2, 3, 4, 5, 6, 7, 8, 9, 10, 11, 12, 13, 14, 15, 16, 17, 18, 19, 20, 21}"
      ]
     },
     "execution_count": 14,
     "metadata": {},
     "output_type": "execute_result"
    }
   ],
   "source": [
    "lst =set(range(22)) \n",
    "lst"
   ]
  },
  {
   "cell_type": "code",
   "execution_count": 16,
   "metadata": {},
   "outputs": [
    {
     "data": {
      "text/plain": [
       "{2, 3, 4, 5, 6, 7, 8, 9, 10, 11, 12, 13, 14, 15, 16, 17, 18, 19, 20, 21}"
      ]
     },
     "execution_count": 16,
     "metadata": {},
     "output_type": "execute_result"
    }
   ],
   "source": [
    "lst =set(range(2,22)) \n",
    "lst"
   ]
  },
  {
   "cell_type": "code",
   "execution_count": 18,
   "metadata": {},
   "outputs": [
    {
     "name": "stdout",
     "output_type": "stream",
     "text": [
      "Y\n",
      "a\n",
      "s\n",
      "i\n",
      "n\n"
     ]
    }
   ],
   "source": [
    "name = 'Yasineet'\n",
    "\n",
    "for i in range(0,5):\n",
    "    print(name[i])"
   ]
  },
  {
   "cell_type": "code",
   "execution_count": 19,
   "metadata": {},
   "outputs": [
    {
     "data": {
      "text/plain": [
       "[('a', 1), ('b', 2), ('c', 3), ('d', 4), ('e', 5)]"
      ]
     },
     "execution_count": 19,
     "metadata": {},
     "output_type": "execute_result"
    }
   ],
   "source": [
    "# zip()\n",
    "\n",
    "list1 = ['a','b','c','d','e']\n",
    "\n",
    "list2 = [1,2,3,4,5,6]\n",
    "\n",
    "list(zip(list1,list2))"
   ]
  },
  {
   "cell_type": "code",
   "execution_count": 20,
   "metadata": {},
   "outputs": [
    {
     "name": "stdout",
     "output_type": "stream",
     "text": [
      "True\n"
     ]
    }
   ],
   "source": [
    "# in()\n",
    "\n",
    "if 'a'in list1:\n",
    "    print(True)"
   ]
  },
  {
   "cell_type": "code",
   "execution_count": 21,
   "metadata": {},
   "outputs": [
    {
     "name": "stdout",
     "output_type": "stream",
     "text": [
      "False\n"
     ]
    }
   ],
   "source": [
    "if 'a' in list2:\n",
    "    print(True)\n",
    "else:\n",
    "    print(False)"
   ]
  },
  {
   "cell_type": "code",
   "execution_count": 22,
   "metadata": {},
   "outputs": [
    {
     "name": "stdout",
     "output_type": "stream",
     "text": [
      "1\n"
     ]
    }
   ],
   "source": [
    "#min() and max()\n",
    "my_list = [1,2,3,4,5,6,7,8,9]\n",
    "\n",
    "print(min(my_list))"
   ]
  },
  {
   "cell_type": "code",
   "execution_count": 23,
   "metadata": {},
   "outputs": [
    {
     "name": "stdout",
     "output_type": "stream",
     "text": [
      "9\n"
     ]
    }
   ],
   "source": [
    "print(max(my_list))"
   ]
  },
  {
   "cell_type": "code",
   "execution_count": 27,
   "metadata": {},
   "outputs": [
    {
     "data": {
      "text/plain": [
       "[3, 2, 8, 6, 9, 7, 4, 5, 1]"
      ]
     },
     "execution_count": 27,
     "metadata": {},
     "output_type": "execute_result"
    }
   ],
   "source": [
    "#shuffle()\n",
    "#my_list = [1,2,3,4,5,6,7,8,9]\n",
    "\n",
    "from random import shuffle\n",
    "\n",
    "shuffle(my_list)\n",
    "\n",
    "my_list"
   ]
  },
  {
   "cell_type": "code",
   "execution_count": 28,
   "metadata": {},
   "outputs": [
    {
     "name": "stdout",
     "output_type": "stream",
     "text": [
      "Enter your name:Peter\n",
      "My name is: Peter\n"
     ]
    }
   ],
   "source": [
    "#input\n",
    "\n",
    "name = input('Enter your name:')\n",
    "\n",
    "print(f'My name is: {name}')"
   ]
  },
  {
   "cell_type": "markdown",
   "metadata": {},
   "source": [
    "\n",
    "### Execrises:\n",
    "    \n",
    "    1. Write a program to accept a number from a user and calculate the sum of all numbers from 1 to a given number(Using for loop and range() function)\n",
    "\n",
    "For example, if the user entered 10 the output should be 55 (1+2+3+4+5+6+7+8+9+10)\n",
    "\n",
    "Expected Output:\n",
    "\n",
    "Enter number 10\n",
    "Sum is:  55\n",
    "\n",
    "\n",
    "    2.Write a program to display only those numbers from a list that satisfy the following conditions.\n",
    "The number must be divisible by five\n",
    "If the number is greater than 150, then skip it and move to the next number\n",
    "If the number is greater than 500, then stop the loop\n",
    "\n",
    "    3. Use else block to display a message “Done” after successful execution of for loop\n",
    "For example, the following loop will execute without any error."
   ]
  },
  {
   "cell_type": "code",
   "execution_count": null,
   "metadata": {},
   "outputs": [],
   "source": []
  }
 ],
 "metadata": {
  "kernelspec": {
   "display_name": "Python 3",
   "language": "python",
   "name": "python3"
  },
  "language_info": {
   "codemirror_mode": {
    "name": "ipython",
    "version": 3
   },
   "file_extension": ".py",
   "mimetype": "text/x-python",
   "name": "python",
   "nbconvert_exporter": "python",
   "pygments_lexer": "ipython3",
   "version": "3.8.5"
  }
 },
 "nbformat": 4,
 "nbformat_minor": 4
}
