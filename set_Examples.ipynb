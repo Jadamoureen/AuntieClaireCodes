{
  "nbformat": 4,
  "nbformat_minor": 0,
  "metadata": {
    "colab": {
      "name": "set Examples.ipynb",
      "provenance": []
    },
    "kernelspec": {
      "name": "python3",
      "display_name": "Python 3"
    },
    "language_info": {
      "name": "python"
    }
  },
  "cells": [
    {
      "cell_type": "code",
      "metadata": {
        "id": "6q_dqIykPcYU",
        "colab": {
          "base_uri": "https://localhost:8080/"
        },
        "outputId": "4285e86f-50a1-4ad1-95c7-4f2f5302cf06"
      },
      "source": [
        "my_set = {1,2,3,4,5,6}\n",
        "type(my_set)"
      ],
      "execution_count": 1,
      "outputs": [
        {
          "output_type": "execute_result",
          "data": {
            "text/plain": [
              "set"
            ]
          },
          "metadata": {},
          "execution_count": 1
        }
      ]
    },
    {
      "cell_type": "code",
      "source": [
        "#methods used \n",
        "#add()\n",
        "\n",
        "myset = set()\n",
        "myset.add(1)\n",
        "myset.add(2)\n",
        "myset.add(3)\n",
        "myset.add(4)\n",
        "myset.add(3)\n",
        "myset.add(1)\n",
        "myset.add(5)\n",
        "myset"
      ],
      "metadata": {
        "colab": {
          "base_uri": "https://localhost:8080/"
        },
        "id": "9tsYJpVo_LNu",
        "outputId": "ec48afba-e71c-4fda-98ef-0d4ec5057090"
      },
      "execution_count": 2,
      "outputs": [
        {
          "output_type": "execute_result",
          "data": {
            "text/plain": [
              "{1, 2, 3, 4, 5}"
            ]
          },
          "metadata": {},
          "execution_count": 2
        }
      ]
    },
    {
      "cell_type": "code",
      "source": [
        "my_tuple = (1,2,3,4,5,1,2,3,4,5)\n",
        "\n",
        "result = set(my_tuple)\n",
        "\n",
        "result # print(result)"
      ],
      "metadata": {
        "colab": {
          "base_uri": "https://localhost:8080/"
        },
        "id": "uuL5ubJGAJBS",
        "outputId": "8d717a48-62f9-43ea-9672-10c596691297"
      },
      "execution_count": 3,
      "outputs": [
        {
          "output_type": "execute_result",
          "data": {
            "text/plain": [
              "{1, 2, 3, 4, 5}"
            ]
          },
          "metadata": {},
          "execution_count": 3
        }
      ]
    },
    {
      "cell_type": "code",
      "source": [
        "my_list = [1,2,3,4,5,1,2,3,4,5]\n",
        "\n",
        "result1 = set(my_list)\n",
        "\n",
        "print(result1)"
      ],
      "metadata": {
        "colab": {
          "base_uri": "https://localhost:8080/"
        },
        "id": "E1Iog-4JA7yl",
        "outputId": "79f3708d-f4a7-4919-8ca8-f89e515bcd7b"
      },
      "execution_count": 4,
      "outputs": [
        {
          "output_type": "stream",
          "name": "stdout",
          "text": [
            "{1, 2, 3, 4, 5}\n"
          ]
        }
      ]
    },
    {
      "cell_type": "code",
      "source": [
        "#intersection\n",
        "\n",
        "set_A = {4,6,10,21,14,5,2,11}\n",
        "set_B = {1,8,7,13,12,3,5,2,11}\n",
        "\n",
        "result = set.intersection(set_A,set_B)# common items in both sets\n",
        "\n",
        "print(result)"
      ],
      "metadata": {
        "colab": {
          "base_uri": "https://localhost:8080/"
        },
        "id": "b6GV79ZHBOVS",
        "outputId": "d0752e09-572c-4d67-b1da-058e9efd5dcd"
      },
      "execution_count": 5,
      "outputs": [
        {
          "output_type": "stream",
          "name": "stdout",
          "text": [
            "{2, 11, 5}\n"
          ]
        }
      ]
    },
    {
      "cell_type": "code",
      "source": [
        "set_A = {4,6,10,21,14,5,2,11}\n",
        "set_B = {1,8,7,13,12,3,5,2,11}\n",
        "set_C = {2,5,6,10,13,18,19,20}\n",
        "\n",
        "result2 = set.intersection(set_A,set_B,set_C)\n",
        "\n",
        "print(result2)"
      ],
      "metadata": {
        "colab": {
          "base_uri": "https://localhost:8080/"
        },
        "id": "IM2HA00vCrFJ",
        "outputId": "3f109eaa-0e42-41ab-9deb-1fc82d0af968"
      },
      "execution_count": 7,
      "outputs": [
        {
          "output_type": "stream",
          "name": "stdout",
          "text": [
            "{2, 5}\n"
          ]
        }
      ]
    },
    {
      "cell_type": "code",
      "source": [
        "# difference()method \n",
        "set_A = {2,4,5,6,10,11,14,21}\n",
        "set_B = {1,2,3,5,8,7,11,12,13}\n",
        "set_C = {2,5,6,10,13,18,19,20}\n",
        "\n",
        "result3 = set_A.difference(set_B)# unique items that appear in one set \n",
        "#and are not in the other\n",
        "\n",
        "print(result3)\n"
      ],
      "metadata": {
        "colab": {
          "base_uri": "https://localhost:8080/"
        },
        "id": "jVk3ajKuDj-q",
        "outputId": "7fe2d903-1042-4a3c-e5d3-535a400c810b"
      },
      "execution_count": 12,
      "outputs": [
        {
          "output_type": "stream",
          "name": "stdout",
          "text": [
            "{4, 6, 10, 14, 21}\n"
          ]
        }
      ]
    },
    {
      "cell_type": "code",
      "source": [
        "#Union ()\n",
        "set_A = {2,4,5,6,10,11,14,21}\n",
        "set_B = {1,2,3,5,8,7,11,12,13}\n",
        "set_C = {2,5,6,10,13,18,19,20}\n",
        "\n",
        "result4 = set.union(set_A,set_B,set_C)\n",
        "\n",
        "print(result4)"
      ],
      "metadata": {
        "colab": {
          "base_uri": "https://localhost:8080/"
        },
        "id": "05Gf7AN2FiOT",
        "outputId": "0c5595ae-0c73-4b59-c566-917be3326ee3"
      },
      "execution_count": 13,
      "outputs": [
        {
          "output_type": "stream",
          "name": "stdout",
          "text": [
            "{1, 2, 3, 4, 5, 6, 7, 8, 10, 11, 12, 13, 14, 18, 19, 20, 21}\n"
          ]
        }
      ]
    },
    {
      "cell_type": "code",
      "source": [
        "#Boolean\n",
        "\n",
        "#is 1 equal to 1\n",
        "\n",
        "1 == 1"
      ],
      "metadata": {
        "colab": {
          "base_uri": "https://localhost:8080/"
        },
        "id": "0az9G22xGMsW",
        "outputId": "4939e15f-c419-4874-bda8-6a2b697f08ca"
      },
      "execution_count": 14,
      "outputs": [
        {
          "output_type": "execute_result",
          "data": {
            "text/plain": [
              "True"
            ]
          },
          "metadata": {},
          "execution_count": 14
        }
      ]
    },
    {
      "cell_type": "code",
      "source": [
        "1 > 1"
      ],
      "metadata": {
        "colab": {
          "base_uri": "https://localhost:8080/"
        },
        "id": "4GJLwmzaGhoi",
        "outputId": "bd180933-c8d6-480a-d290-b9c6070551e3"
      },
      "execution_count": 15,
      "outputs": [
        {
          "output_type": "execute_result",
          "data": {
            "text/plain": [
              "False"
            ]
          },
          "metadata": {},
          "execution_count": 15
        }
      ]
    },
    {
      "cell_type": "code",
      "source": [
        "1 < 1"
      ],
      "metadata": {
        "colab": {
          "base_uri": "https://localhost:8080/"
        },
        "id": "8Gyd4_3NGlDw",
        "outputId": "40c0b213-bf78-4ff7-9f39-1b8ef0f27aa0"
      },
      "execution_count": 16,
      "outputs": [
        {
          "output_type": "execute_result",
          "data": {
            "text/plain": [
              "False"
            ]
          },
          "metadata": {},
          "execution_count": 16
        }
      ]
    },
    {
      "cell_type": "code",
      "source": [
        ""
      ],
      "metadata": {
        "id": "yBp7zol0GntC"
      },
      "execution_count": null,
      "outputs": []
    }
  ]
}